{
 "cells": [
  {
   "cell_type": "code",
   "execution_count": 4,
   "metadata": {},
   "outputs": [],
   "source": [
    "import torch\n",
    "from torch.utils.data import Dataset, DataLoader\n",
    "import os, os.path \n",
    "import numpy \n",
    "import pickle\n",
    "from glob import glob\n",
    "from tqdm import tqdm\n",
    "\n",
    "\"\"\"Change to the data folder\"\"\"\n",
    "# new_path = \"./new_train/\"\n",
    "new_path = \"./proj/new_train.nosync/\"\n",
    "test_path = \"./proj/new_val_in.nosync/\"\n",
    "# number of sequences in each dataset\n",
    "# train:205942  val:3200 test: 36272 \n",
    "# sequences sampled at 10HZ rate"
   ]
  },
  {
   "cell_type": "markdown",
   "metadata": {},
   "source": [
    "### Create a dataset class "
   ]
  },
  {
   "cell_type": "code",
   "execution_count": 6,
   "metadata": {},
   "outputs": [],
   "source": [
    "class ArgoverseDataset(Dataset):\n",
    "    \"\"\"Dataset class for Argoverse\"\"\"\n",
    "    def __init__(self, data_path: str, transform=None):\n",
    "        super(ArgoverseDataset, self).__init__()\n",
    "        self.data_path = data_path\n",
    "        self.transform = transform\n",
    "#         print(\"the path is \", os.path.join(self.data_path, '*'))\n",
    "        self.pkl_list = glob(os.path.join(self.data_path, '*'))\n",
    "#         print(len(self.pkl_list))\n",
    "#         print(self.pkl_list[0])\n",
    "        self.pkl_list.sort()\n",
    "        \n",
    "    def __len__(self):\n",
    "        return len(self.pkl_list)\n",
    "\n",
    "    def __getitem__(self, idx):\n",
    "\n",
    "        pkl_path = self.pkl_list[idx]\n",
    "        with open(pkl_path, 'rb') as f:\n",
    "            data = pickle.load(f)\n",
    "            \n",
    "        if self.transform:\n",
    "            data = self.transform(data)\n",
    "\n",
    "        return data\n",
    "\n",
    "\n",
    "# intialize a dataset\n",
    "val_dataset  = ArgoverseDataset(data_path=valid_path)\n",
    "train_dataset = ArgoverseDataset(data_path=train_path)\n",
    "# print(\"the path is \", os.path.join(new_path, '*'))"
   ]
  },
  {
   "cell_type": "markdown",
   "metadata": {},
   "source": [
    "### Create a loader to enable batch processing"
   ]
  },
  {
   "cell_type": "code",
   "execution_count": 7,
   "metadata": {},
   "outputs": [],
   "source": [
    "batch_sz = 4\n",
    "\n",
    "def my_collate(batch):\n",
    "    \"\"\" collate lists of samples into batches, create [ batch_sz x agent_sz x seq_len x feature] \"\"\"\n",
    "\n",
    "    inp = [numpy.dstack([scene['p_in'], scene['v_in']]) for scene in batch]\n",
    "    out = [numpy.dstack([scene['p_out'], scene['v_out']]) for scene in batch]\n",
    "    inp = torch.LongTensor(inp)\n",
    "    out = torch.LongTensor(out)\n",
    "    return [inp, out]\n",
    "\n",
    "def collate_xy(batch):\n",
    "    agent_id = batch[0]['agent_id']\n",
    "    index = numpy.where(batch[0][\"track_id\"] == batch[0][\"agent_id\"])[0][0]\n",
    "    in_x = batch[0]['p_in'][index,:,0]\n",
    "    in_y = batch[0]['p_in'][index,:,1]\n",
    "    return [in_x, in_y]\n",
    "\n",
    "def collate_xy_out(batch):\n",
    "    agent_id = batch[0]['agent_id']\n",
    "    index = numpy.where(batch[0][\"track_id\"] == batch[0][\"agent_id\"])[0][0]\n",
    "    in_x = batch[0]['p_out'][index,:,0]\n",
    "    in_y = batch[0]['p_out'][index,:,1]\n",
    "    return [in_x, in_y]\n",
    "\n",
    "def collate_xy_out(batch):\n",
    "    agent_id = batch[0]['agent_id']\n",
    "    index = numpy.where(batch[0][\"track_id\"] == batch[0][\"agent_id\"])[0][0]\n",
    "    in_x = batch[0]['p_out'][index,:,0]\n",
    "    in_y = batch[0]['p_out'][index,:,1]\n",
    "    return [in_x, in_y]\n",
    "\n",
    "def collate_v(batch):\n",
    "    agent_id = batch[0]['agent_id']\n",
    "    index = numpy.where(batch[0][\"track_id\"] == batch[0][\"agent_id\"])[0][0]\n",
    "    in_x = batch[0]['v_in'][index,:,0]\n",
    "    in_y = batch[0]['v_in'][index,:,1]\n",
    "    \n",
    "    out_x = batch[0]['v_out'][index,:,0]\n",
    "    out_y = batch[0]['v_out'][index,:,1]\n",
    "    \n",
    "    return [in_x, in_y, out_x, out_y]\n",
    "    \n",
    "val_loader = DataLoader(train_dataset,batch_size=1, shuffle = False, collate_fn=collate_xy, num_workers=0)\n",
    "val_loader1 = DataLoader(train_dataset,batch_size=1, shuffle = False, collate_fn=collate_xy_out, num_workers=0)\n",
    "val_loader2 = DataLoader(train_dataset,batch_size=1, shuffle = False, collate_fn=collate_v, num_workers=0)"
   ]
  },
  {
   "cell_type": "markdown",
   "metadata": {},
   "source": [
    "### Visualize the batch of sequences"
   ]
  },
  {
   "cell_type": "code",
   "execution_count": 9,
   "metadata": {},
   "outputs": [],
   "source": [
    "import matplotlib.pyplot as plt\n",
    "import random\n",
    "\n",
    "agent_id = 0\n",
    "\n",
    "def show_sample_batch(sample_batch, agent_id):\n",
    "    \"\"\"visualize the trajectory for a batch of samples with a randon agent\"\"\"\n",
    "    inp, out = sample_batch\n",
    "    batch_sz = inp.size(0)\n",
    "    agent_sz = inp.size(1)\n",
    "    \n",
    "    fig, axs = plt.subplots(1,batch_sz, figsize=(15, 3), facecolor='w', edgecolor='k')\n",
    "    fig.subplots_adjust(hspace = .5, wspace=.001)\n",
    "    axs = axs.ravel()   \n",
    "    for i in range(batch_sz):\n",
    "        axs[i].xaxis.set_ticks([])\n",
    "        axs[i].yaxis.set_ticks([])\n",
    "        print(inp[i, agent_id,:,0], inp[i, agent_id,:,1])\n",
    "        print(out[i, agent_id,:,0], out[i, agent_id,:,1])\n",
    "        # first two feature dimensions are (x,y) positions\n",
    "        axs[i].scatter(inp[i, agent_id,:,0], inp[i, agent_id,:,1])\n",
    "        axs[i].scatter(out[i, agent_id,:,0], out[i, agent_id,:,1])\n",
    "\n",
    "        \n",
    "for i_batch, sample_batch in enumerate(val_loader):\n",
    "    inp, out = sample_batch\n",
    "    \"\"\"TODO:\n",
    "      Deep learning model\n",
    "      training routine\n",
    "    \"\"\"\n",
    "    print(inp.s)\n",
    "    show_sample_batch(sample_batch, agent_id)\n",
    "    break"
   ]
  },
  {
   "cell_type": "code",
   "execution_count": null,
   "metadata": {},
   "outputs": [],
   "source": [
    "import tqdm as tqdm\n",
    "\n",
    "inp_x = numpy.empty(0)\n",
    "inp_y = numpy.empty(0)\n",
    "\n",
    "for i_batch, sample_batch in enumerate(tqdm(val_loader)):    \n",
    "    in_x, in_y = sample_batch\n",
    "    inp_x = numpy.append(inp_x, in_x)\n",
    "    inp_y = numpy.append(inp_y, in_y)"
   ]
  },
  {
   "cell_type": "code",
   "execution_count": null,
   "metadata": {},
   "outputs": [],
   "source": [
    "from matplotlib import pyplot as plt"
   ]
  },
  {
   "cell_type": "code",
   "execution_count": null,
   "metadata": {},
   "outputs": [],
   "source": [
    "n, bins, patches = plt.hist(x=inp_x, bins='auto', color='#0504aa',\n",
    "                            alpha=0.7, rwidth=0.85)"
   ]
  },
  {
   "cell_type": "code",
   "execution_count": null,
   "metadata": {},
   "outputs": [],
   "source": [
    "n1, bins1, patches1 = plt.hist(x=inp_y, bins='auto', color='#0504aa',\n",
    "                            alpha=0.7, rwidth=0.85)"
   ]
  },
  {
   "cell_type": "code",
   "execution_count": null,
   "metadata": {},
   "outputs": [],
   "source": [
    "from matplotlib import colors"
   ]
  },
  {
   "cell_type": "code",
   "execution_count": null,
   "metadata": {},
   "outputs": [],
   "source": [
    "fig = plt.subplots(figsize =(10, 7))\n",
    "plt.hist2d(inp_x, inp_y, norm = colors.LogNorm(), cmap = \"Greens\")\n",
    "plt.title(\"Input positions\")\n",
    "plt.show()"
   ]
  },
  {
   "cell_type": "code",
   "execution_count": null,
   "metadata": {},
   "outputs": [],
   "source": [
    "outp_x = numpy.empty(0)\n",
    "outp_y = numpy.empty(0)\n",
    "\n",
    "for i_batch, sample_batch in enumerate(tqdm(val_loader)):    \n",
    "    out_x, out_y = sample_batch\n",
    "    outp_x = numpy.append(outp_x, out_x)\n",
    "    outp_y = numpy.append(outp_y, out_y)"
   ]
  },
  {
   "cell_type": "code",
   "execution_count": null,
   "metadata": {},
   "outputs": [],
   "source": [
    "v_x = numpy.empty(0)\n",
    "v_y = numpy.empty(0)\n",
    "\n",
    "for i_batch, sample_batch in enumerate(tqdm(val_loader2)):    \n",
    "    in_x, in_y, out_x, out_y = sample_batch\n",
    "    v_x = numpy.append(v_x, in_x)\n",
    "    v_x = numpy.append(v_x, out_x)\n",
    "    v_y = numpy.append(v_y, in_y)\n",
    "    v_y = numpy.append(v_y, out_y)"
   ]
  },
  {
   "cell_type": "code",
   "execution_count": null,
   "metadata": {},
   "outputs": [],
   "source": [
    "from matplotlib import pyplot as plt\n",
    "from matplotlib import colors\n"
   ]
  },
  {
   "cell_type": "code",
   "execution_count": null,
   "metadata": {},
   "outputs": [],
   "source": [
    "n, bins, patches = plt.hist(x=inp_x, bins='auto', color='#0504aa',\n",
    "                            alpha=0.7, rwidth=0.85)"
   ]
  },
  {
   "cell_type": "code",
   "execution_count": null,
   "metadata": {},
   "outputs": [],
   "source": [
    "n1, bins1, patches1 = plt.hist(x=inp_y, bins='auto', color='#0504aa',\n",
    "                            alpha=0.7, rwidth=0.85)"
   ]
  },
  {
   "cell_type": "code",
   "execution_count": null,
   "metadata": {},
   "outputs": [],
   "source": [
    "fig = plt.subplots(figsize =(10, 7))\n",
    "plt.hist2d(inp_x, inp_y, norm = colors.LogNorm(), cmap = \"Greens\")\n",
    "plt.title(\"Input positions\")\n",
    "plt.show()"
   ]
  }
 ],
 "metadata": {
  "kernelspec": {
   "display_name": "Python 3",
   "language": "python",
   "name": "python3"
  },
  "language_info": {
   "codemirror_mode": {
    "name": "ipython",
    "version": 3
   },
   "file_extension": ".py",
   "mimetype": "text/x-python",
   "name": "python",
   "nbconvert_exporter": "python",
   "pygments_lexer": "ipython3",
   "version": "3.8.8"
  }
 },
 "nbformat": 4,
 "nbformat_minor": 4
}
